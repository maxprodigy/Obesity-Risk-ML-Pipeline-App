{
  "nbformat": 4,
  "nbformat_minor": 0,
  "metadata": {
    "colab": {
      "provenance": []
    },
    "kernelspec": {
      "name": "python3",
      "display_name": "Python 3"
    },
    "language_info": {
      "name": "python"
    }
  },
  "cells": [
    {
      "cell_type": "markdown",
      "source": [
        "# The Dataset\n",
        "### **Brief Description:**\n",
        "\n",
        "### Problem Statement:\n",
        "Nigeria struggles with a serious data scarcity issue in healthcare, particularly in my case of exploring the link between obesity and cancer. Without structured and accessible health data, it becomes challenging to develop effective public health policies. This lack of data affects decision-making and research studies like mine.\n",
        "\n",
        "### About the Data:\n",
        "To improvise and tackle this gap, I created a synthetic dataset using actual statistics from sources like **PLOS Global Public Health, GLOBOCAN 2022, and the NDHS Report 2018**. The dataset includes:\n",
        "- **Demographics:** Age, gender, region.\n",
        "- **Health Indicators:** BMI, blood pressure, cholesterol, blood sugar.\n",
        "- **Lifestyle Factors:** Physical activity levels, diet quality.\n",
        "- **Obesity Risk Score:** A calculated metric based on multiple health indicators.\n",
        "\n",
        "By using probability modeling and Gaussian distributions, the dataset gives realistic patterns reflecting previous Nigeria’s health reports and case studies. It is a bridge for research and analysis in the absence of real data.\n",
        "\n",
        "### Why This Matters:\n",
        "This synthetic dataset helps researchers to analyze obesity-related health risks, simulate missing data, and develop models for better health interventions without breaching privacy or waiting for official data collection improvements."
      ],
      "metadata": {
        "id": "YfTrrKflRJMH"
      }
    },
    {
      "cell_type": "code",
      "source": [
        "# Core libraries\n",
        "import pandas as pd\n",
        "import numpy as np\n",
        "import matplotlib.pyplot as plt\n",
        "import seaborn as sns\n",
        "\n",
        "# Preprocessing\n",
        "from sklearn.model_selection import train_test_split\n",
        "from sklearn.preprocessing import LabelEncoder, StandardScaler\n",
        "\n",
        "# Model\n",
        "import xgboost as xgb\n",
        "\n",
        "# Evaluation\n",
        "from sklearn.metrics import (\n",
        "    confusion_matrix, classification_report,\n",
        "    accuracy_score, precision_score,\n",
        "    recall_score, f1_score\n",
        ")\n"
      ],
      "metadata": {
        "id": "jJBs5yXYSUDM"
      },
      "execution_count": 1,
      "outputs": []
    },
    {
      "cell_type": "code",
      "execution_count": 2,
      "metadata": {
        "id": "IoK0g7gAQ6FB"
      },
      "outputs": [],
      "source": [
        "# File path\n",
        "file_path = \"/content/Nigeria Obesity Risk Synthetic Data - Synthetic_Health_Dataset.csv\"\n",
        "\n",
        "# Load the dataset\n",
        "df = pd.read_csv(file_path)\n",
        "\n",
        "# Data Preprocessing\n",
        "df_processed = df.copy()"
      ]
    },
    {
      "cell_type": "code",
      "source": [
        "df.head()"
      ],
      "metadata": {
        "colab": {
          "base_uri": "https://localhost:8080/",
          "height": 243
        },
        "id": "pU0lKLQ2TB-h",
        "outputId": "7f4838f3-d9f6-46cd-dbc6-bfd53f5c9bd9"
      },
      "execution_count": 3,
      "outputs": [
        {
          "output_type": "execute_result",
          "data": {
            "text/plain": [
              "        Region  Age  Gender   BMI  Blood_Pressure_Systolic  \\\n",
              "0    Northeast   54    Male  24.2                      107   \n",
              "1  South-South   48  Female  31.6                      126   \n",
              "2    Northwest   44    Male  23.9                      109   \n",
              "3    Northeast   52    Male  18.6                       99   \n",
              "4    Southwest   42  Female  16.3                       99   \n",
              "\n",
              "   Blood_Pressure_Diastolic  Cholesterol  Blood_Sugar Physical_Activity  \\\n",
              "0                        66          135           65          Moderate   \n",
              "1                        79          171          101               Low   \n",
              "2                        63          133           74               Low   \n",
              "3                        60          139           80               Low   \n",
              "4                        59          118           60               Low   \n",
              "\n",
              "   Diet_Quality  Obesity_Risk  \n",
              "0           5.4         0.433  \n",
              "1           5.3         0.680  \n",
              "2           6.3         0.419  \n",
              "3           6.8         0.303  \n",
              "4           6.7         0.238  "
            ],
            "text/html": [
              "\n",
              "  <div id=\"df-bc69d081-713b-4176-a5d2-f1973914cf68\" class=\"colab-df-container\">\n",
              "    <div>\n",
              "<style scoped>\n",
              "    .dataframe tbody tr th:only-of-type {\n",
              "        vertical-align: middle;\n",
              "    }\n",
              "\n",
              "    .dataframe tbody tr th {\n",
              "        vertical-align: top;\n",
              "    }\n",
              "\n",
              "    .dataframe thead th {\n",
              "        text-align: right;\n",
              "    }\n",
              "</style>\n",
              "<table border=\"1\" class=\"dataframe\">\n",
              "  <thead>\n",
              "    <tr style=\"text-align: right;\">\n",
              "      <th></th>\n",
              "      <th>Region</th>\n",
              "      <th>Age</th>\n",
              "      <th>Gender</th>\n",
              "      <th>BMI</th>\n",
              "      <th>Blood_Pressure_Systolic</th>\n",
              "      <th>Blood_Pressure_Diastolic</th>\n",
              "      <th>Cholesterol</th>\n",
              "      <th>Blood_Sugar</th>\n",
              "      <th>Physical_Activity</th>\n",
              "      <th>Diet_Quality</th>\n",
              "      <th>Obesity_Risk</th>\n",
              "    </tr>\n",
              "  </thead>\n",
              "  <tbody>\n",
              "    <tr>\n",
              "      <th>0</th>\n",
              "      <td>Northeast</td>\n",
              "      <td>54</td>\n",
              "      <td>Male</td>\n",
              "      <td>24.2</td>\n",
              "      <td>107</td>\n",
              "      <td>66</td>\n",
              "      <td>135</td>\n",
              "      <td>65</td>\n",
              "      <td>Moderate</td>\n",
              "      <td>5.4</td>\n",
              "      <td>0.433</td>\n",
              "    </tr>\n",
              "    <tr>\n",
              "      <th>1</th>\n",
              "      <td>South-South</td>\n",
              "      <td>48</td>\n",
              "      <td>Female</td>\n",
              "      <td>31.6</td>\n",
              "      <td>126</td>\n",
              "      <td>79</td>\n",
              "      <td>171</td>\n",
              "      <td>101</td>\n",
              "      <td>Low</td>\n",
              "      <td>5.3</td>\n",
              "      <td>0.680</td>\n",
              "    </tr>\n",
              "    <tr>\n",
              "      <th>2</th>\n",
              "      <td>Northwest</td>\n",
              "      <td>44</td>\n",
              "      <td>Male</td>\n",
              "      <td>23.9</td>\n",
              "      <td>109</td>\n",
              "      <td>63</td>\n",
              "      <td>133</td>\n",
              "      <td>74</td>\n",
              "      <td>Low</td>\n",
              "      <td>6.3</td>\n",
              "      <td>0.419</td>\n",
              "    </tr>\n",
              "    <tr>\n",
              "      <th>3</th>\n",
              "      <td>Northeast</td>\n",
              "      <td>52</td>\n",
              "      <td>Male</td>\n",
              "      <td>18.6</td>\n",
              "      <td>99</td>\n",
              "      <td>60</td>\n",
              "      <td>139</td>\n",
              "      <td>80</td>\n",
              "      <td>Low</td>\n",
              "      <td>6.8</td>\n",
              "      <td>0.303</td>\n",
              "    </tr>\n",
              "    <tr>\n",
              "      <th>4</th>\n",
              "      <td>Southwest</td>\n",
              "      <td>42</td>\n",
              "      <td>Female</td>\n",
              "      <td>16.3</td>\n",
              "      <td>99</td>\n",
              "      <td>59</td>\n",
              "      <td>118</td>\n",
              "      <td>60</td>\n",
              "      <td>Low</td>\n",
              "      <td>6.7</td>\n",
              "      <td>0.238</td>\n",
              "    </tr>\n",
              "  </tbody>\n",
              "</table>\n",
              "</div>\n",
              "    <div class=\"colab-df-buttons\">\n",
              "\n",
              "  <div class=\"colab-df-container\">\n",
              "    <button class=\"colab-df-convert\" onclick=\"convertToInteractive('df-bc69d081-713b-4176-a5d2-f1973914cf68')\"\n",
              "            title=\"Convert this dataframe to an interactive table.\"\n",
              "            style=\"display:none;\">\n",
              "\n",
              "  <svg xmlns=\"http://www.w3.org/2000/svg\" height=\"24px\" viewBox=\"0 -960 960 960\">\n",
              "    <path d=\"M120-120v-720h720v720H120Zm60-500h600v-160H180v160Zm220 220h160v-160H400v160Zm0 220h160v-160H400v160ZM180-400h160v-160H180v160Zm440 0h160v-160H620v160ZM180-180h160v-160H180v160Zm440 0h160v-160H620v160Z\"/>\n",
              "  </svg>\n",
              "    </button>\n",
              "\n",
              "  <style>\n",
              "    .colab-df-container {\n",
              "      display:flex;\n",
              "      gap: 12px;\n",
              "    }\n",
              "\n",
              "    .colab-df-convert {\n",
              "      background-color: #E8F0FE;\n",
              "      border: none;\n",
              "      border-radius: 50%;\n",
              "      cursor: pointer;\n",
              "      display: none;\n",
              "      fill: #1967D2;\n",
              "      height: 32px;\n",
              "      padding: 0 0 0 0;\n",
              "      width: 32px;\n",
              "    }\n",
              "\n",
              "    .colab-df-convert:hover {\n",
              "      background-color: #E2EBFA;\n",
              "      box-shadow: 0px 1px 2px rgba(60, 64, 67, 0.3), 0px 1px 3px 1px rgba(60, 64, 67, 0.15);\n",
              "      fill: #174EA6;\n",
              "    }\n",
              "\n",
              "    .colab-df-buttons div {\n",
              "      margin-bottom: 4px;\n",
              "    }\n",
              "\n",
              "    [theme=dark] .colab-df-convert {\n",
              "      background-color: #3B4455;\n",
              "      fill: #D2E3FC;\n",
              "    }\n",
              "\n",
              "    [theme=dark] .colab-df-convert:hover {\n",
              "      background-color: #434B5C;\n",
              "      box-shadow: 0px 1px 3px 1px rgba(0, 0, 0, 0.15);\n",
              "      filter: drop-shadow(0px 1px 2px rgba(0, 0, 0, 0.3));\n",
              "      fill: #FFFFFF;\n",
              "    }\n",
              "  </style>\n",
              "\n",
              "    <script>\n",
              "      const buttonEl =\n",
              "        document.querySelector('#df-bc69d081-713b-4176-a5d2-f1973914cf68 button.colab-df-convert');\n",
              "      buttonEl.style.display =\n",
              "        google.colab.kernel.accessAllowed ? 'block' : 'none';\n",
              "\n",
              "      async function convertToInteractive(key) {\n",
              "        const element = document.querySelector('#df-bc69d081-713b-4176-a5d2-f1973914cf68');\n",
              "        const dataTable =\n",
              "          await google.colab.kernel.invokeFunction('convertToInteractive',\n",
              "                                                    [key], {});\n",
              "        if (!dataTable) return;\n",
              "\n",
              "        const docLinkHtml = 'Like what you see? Visit the ' +\n",
              "          '<a target=\"_blank\" href=https://colab.research.google.com/notebooks/data_table.ipynb>data table notebook</a>'\n",
              "          + ' to learn more about interactive tables.';\n",
              "        element.innerHTML = '';\n",
              "        dataTable['output_type'] = 'display_data';\n",
              "        await google.colab.output.renderOutput(dataTable, element);\n",
              "        const docLink = document.createElement('div');\n",
              "        docLink.innerHTML = docLinkHtml;\n",
              "        element.appendChild(docLink);\n",
              "      }\n",
              "    </script>\n",
              "  </div>\n",
              "\n",
              "\n",
              "<div id=\"df-7e223a15-3a4b-4c23-a577-72aecd38ad3d\">\n",
              "  <button class=\"colab-df-quickchart\" onclick=\"quickchart('df-7e223a15-3a4b-4c23-a577-72aecd38ad3d')\"\n",
              "            title=\"Suggest charts\"\n",
              "            style=\"display:none;\">\n",
              "\n",
              "<svg xmlns=\"http://www.w3.org/2000/svg\" height=\"24px\"viewBox=\"0 0 24 24\"\n",
              "     width=\"24px\">\n",
              "    <g>\n",
              "        <path d=\"M19 3H5c-1.1 0-2 .9-2 2v14c0 1.1.9 2 2 2h14c1.1 0 2-.9 2-2V5c0-1.1-.9-2-2-2zM9 17H7v-7h2v7zm4 0h-2V7h2v10zm4 0h-2v-4h2v4z\"/>\n",
              "    </g>\n",
              "</svg>\n",
              "  </button>\n",
              "\n",
              "<style>\n",
              "  .colab-df-quickchart {\n",
              "      --bg-color: #E8F0FE;\n",
              "      --fill-color: #1967D2;\n",
              "      --hover-bg-color: #E2EBFA;\n",
              "      --hover-fill-color: #174EA6;\n",
              "      --disabled-fill-color: #AAA;\n",
              "      --disabled-bg-color: #DDD;\n",
              "  }\n",
              "\n",
              "  [theme=dark] .colab-df-quickchart {\n",
              "      --bg-color: #3B4455;\n",
              "      --fill-color: #D2E3FC;\n",
              "      --hover-bg-color: #434B5C;\n",
              "      --hover-fill-color: #FFFFFF;\n",
              "      --disabled-bg-color: #3B4455;\n",
              "      --disabled-fill-color: #666;\n",
              "  }\n",
              "\n",
              "  .colab-df-quickchart {\n",
              "    background-color: var(--bg-color);\n",
              "    border: none;\n",
              "    border-radius: 50%;\n",
              "    cursor: pointer;\n",
              "    display: none;\n",
              "    fill: var(--fill-color);\n",
              "    height: 32px;\n",
              "    padding: 0;\n",
              "    width: 32px;\n",
              "  }\n",
              "\n",
              "  .colab-df-quickchart:hover {\n",
              "    background-color: var(--hover-bg-color);\n",
              "    box-shadow: 0 1px 2px rgba(60, 64, 67, 0.3), 0 1px 3px 1px rgba(60, 64, 67, 0.15);\n",
              "    fill: var(--button-hover-fill-color);\n",
              "  }\n",
              "\n",
              "  .colab-df-quickchart-complete:disabled,\n",
              "  .colab-df-quickchart-complete:disabled:hover {\n",
              "    background-color: var(--disabled-bg-color);\n",
              "    fill: var(--disabled-fill-color);\n",
              "    box-shadow: none;\n",
              "  }\n",
              "\n",
              "  .colab-df-spinner {\n",
              "    border: 2px solid var(--fill-color);\n",
              "    border-color: transparent;\n",
              "    border-bottom-color: var(--fill-color);\n",
              "    animation:\n",
              "      spin 1s steps(1) infinite;\n",
              "  }\n",
              "\n",
              "  @keyframes spin {\n",
              "    0% {\n",
              "      border-color: transparent;\n",
              "      border-bottom-color: var(--fill-color);\n",
              "      border-left-color: var(--fill-color);\n",
              "    }\n",
              "    20% {\n",
              "      border-color: transparent;\n",
              "      border-left-color: var(--fill-color);\n",
              "      border-top-color: var(--fill-color);\n",
              "    }\n",
              "    30% {\n",
              "      border-color: transparent;\n",
              "      border-left-color: var(--fill-color);\n",
              "      border-top-color: var(--fill-color);\n",
              "      border-right-color: var(--fill-color);\n",
              "    }\n",
              "    40% {\n",
              "      border-color: transparent;\n",
              "      border-right-color: var(--fill-color);\n",
              "      border-top-color: var(--fill-color);\n",
              "    }\n",
              "    60% {\n",
              "      border-color: transparent;\n",
              "      border-right-color: var(--fill-color);\n",
              "    }\n",
              "    80% {\n",
              "      border-color: transparent;\n",
              "      border-right-color: var(--fill-color);\n",
              "      border-bottom-color: var(--fill-color);\n",
              "    }\n",
              "    90% {\n",
              "      border-color: transparent;\n",
              "      border-bottom-color: var(--fill-color);\n",
              "    }\n",
              "  }\n",
              "</style>\n",
              "\n",
              "  <script>\n",
              "    async function quickchart(key) {\n",
              "      const quickchartButtonEl =\n",
              "        document.querySelector('#' + key + ' button');\n",
              "      quickchartButtonEl.disabled = true;  // To prevent multiple clicks.\n",
              "      quickchartButtonEl.classList.add('colab-df-spinner');\n",
              "      try {\n",
              "        const charts = await google.colab.kernel.invokeFunction(\n",
              "            'suggestCharts', [key], {});\n",
              "      } catch (error) {\n",
              "        console.error('Error during call to suggestCharts:', error);\n",
              "      }\n",
              "      quickchartButtonEl.classList.remove('colab-df-spinner');\n",
              "      quickchartButtonEl.classList.add('colab-df-quickchart-complete');\n",
              "    }\n",
              "    (() => {\n",
              "      let quickchartButtonEl =\n",
              "        document.querySelector('#df-7e223a15-3a4b-4c23-a577-72aecd38ad3d button');\n",
              "      quickchartButtonEl.style.display =\n",
              "        google.colab.kernel.accessAllowed ? 'block' : 'none';\n",
              "    })();\n",
              "  </script>\n",
              "</div>\n",
              "\n",
              "    </div>\n",
              "  </div>\n"
            ],
            "application/vnd.google.colaboratory.intrinsic+json": {
              "type": "dataframe",
              "variable_name": "df",
              "summary": "{\n  \"name\": \"df\",\n  \"rows\": 1000,\n  \"fields\": [\n    {\n      \"column\": \"Region\",\n      \"properties\": {\n        \"dtype\": \"category\",\n        \"num_unique_values\": 7,\n        \"samples\": [\n          \"Northeast\",\n          \"South-South\",\n          \"North-Central\"\n        ],\n        \"semantic_type\": \"\",\n        \"description\": \"\"\n      }\n    },\n    {\n      \"column\": \"Age\",\n      \"properties\": {\n        \"dtype\": \"number\",\n        \"std\": 9,\n        \"min\": 25,\n        \"max\": 65,\n        \"num_unique_values\": 41,\n        \"samples\": [\n          35,\n          40,\n          30\n        ],\n        \"semantic_type\": \"\",\n        \"description\": \"\"\n      }\n    },\n    {\n      \"column\": \"Gender\",\n      \"properties\": {\n        \"dtype\": \"category\",\n        \"num_unique_values\": 2,\n        \"samples\": [\n          \"Female\",\n          \"Male\"\n        ],\n        \"semantic_type\": \"\",\n        \"description\": \"\"\n      }\n    },\n    {\n      \"column\": \"BMI\",\n      \"properties\": {\n        \"dtype\": \"number\",\n        \"std\": 5.289253235551292,\n        \"min\": 7.4,\n        \"max\": 40.7,\n        \"num_unique_values\": 237,\n        \"samples\": [\n          18.5,\n          21.1\n        ],\n        \"semantic_type\": \"\",\n        \"description\": \"\"\n      }\n    },\n    {\n      \"column\": \"Blood_Pressure_Systolic\",\n      \"properties\": {\n        \"dtype\": \"number\",\n        \"std\": 11,\n        \"min\": 69,\n        \"max\": 149,\n        \"num_unique_values\": 69,\n        \"samples\": [\n          120,\n          107\n        ],\n        \"semantic_type\": \"\",\n        \"description\": \"\"\n      }\n    },\n    {\n      \"column\": \"Blood_Pressure_Diastolic\",\n      \"properties\": {\n        \"dtype\": \"number\",\n        \"std\": 9,\n        \"min\": 39,\n        \"max\": 96,\n        \"num_unique_values\": 52,\n        \"samples\": [\n          70,\n          96\n        ],\n        \"semantic_type\": \"\",\n        \"description\": \"\"\n      }\n    },\n    {\n      \"column\": \"Cholesterol\",\n      \"properties\": {\n        \"dtype\": \"number\",\n        \"std\": 25,\n        \"min\": 66,\n        \"max\": 230,\n        \"num_unique_values\": 132,\n        \"samples\": [\n          208,\n          110\n        ],\n        \"semantic_type\": \"\",\n        \"description\": \"\"\n      }\n    },\n    {\n      \"column\": \"Blood_Sugar\",\n      \"properties\": {\n        \"dtype\": \"number\",\n        \"std\": 14,\n        \"min\": 33,\n        \"max\": 122,\n        \"num_unique_values\": 77,\n        \"samples\": [\n          60,\n          67\n        ],\n        \"semantic_type\": \"\",\n        \"description\": \"\"\n      }\n    },\n    {\n      \"column\": \"Physical_Activity\",\n      \"properties\": {\n        \"dtype\": \"category\",\n        \"num_unique_values\": 3,\n        \"samples\": [\n          \"Moderate\",\n          \"Low\"\n        ],\n        \"semantic_type\": \"\",\n        \"description\": \"\"\n      }\n    },\n    {\n      \"column\": \"Diet_Quality\",\n      \"properties\": {\n        \"dtype\": \"number\",\n        \"std\": 1.4281454230397368,\n        \"min\": 2.5,\n        \"max\": 10.0,\n        \"num_unique_values\": 70,\n        \"samples\": [\n          6.1,\n          5.4\n        ],\n        \"semantic_type\": \"\",\n        \"description\": \"\"\n      }\n    },\n    {\n      \"column\": \"Obesity_Risk\",\n      \"properties\": {\n        \"dtype\": \"number\",\n        \"std\": 0.15203552002854567,\n        \"min\": 0.09,\n        \"max\": 0.887,\n        \"num_unique_values\": 484,\n        \"samples\": [\n          0.628,\n          0.665\n        ],\n        \"semantic_type\": \"\",\n        \"description\": \"\"\n      }\n    }\n  ]\n}"
            }
          },
          "metadata": {},
          "execution_count": 3
        }
      ]
    },
    {
      "cell_type": "code",
      "source": [
        "# Encode categorical variables\n",
        "label_encoders = {}\n",
        "categorical_columns = ['Region', 'Gender', 'Physical_Activity']\n",
        "\n",
        "for col in categorical_columns:\n",
        "    le = LabelEncoder()\n",
        "    df[col] = le.fit_transform(df[col])\n",
        "    label_encoders[col] = le  # Store encoder for later use\n",
        "\n",
        "# Define obesity risk categories\n",
        "def categorize_obesity_risk(value):\n",
        "    if value < 0.4:\n",
        "        return 0  # Low Risk\n",
        "    elif 0.4 <= value <= 0.7:\n",
        "        return 1  # Medium Risk\n",
        "    else:\n",
        "        return 2  # High Risk\n",
        "\n",
        "df['Obesity_Risk_Category'] = df['Obesity_Risk'].apply(categorize_obesity_risk)\n",
        "df.drop(columns=['Obesity_Risk'], inplace=True)\n",
        "\n",
        "# Normalize numerical features\n",
        "scaler = StandardScaler()\n",
        "numerical_columns = ['Age', 'BMI', 'Blood_Pressure_Systolic', 'Blood_Pressure_Diastolic', 'Cholesterol', 'Blood_Sugar', 'Diet_Quality']\n",
        "df[numerical_columns] = scaler.fit_transform(df[numerical_columns])\n",
        "\n",
        "# Split dataset into train, validation, and test sets\n",
        "X = df.drop(columns=['Obesity_Risk_Category'])\n",
        "y = df['Obesity_Risk_Category']\n",
        "\n",
        "X_train, X_temp, y_train, y_temp = train_test_split(X, y, test_size=0.3, random_state=42, stratify=y)\n",
        "X_val, X_test, y_val, y_test = train_test_split(X_temp, y_temp, test_size=0.5, random_state=42, stratify=y_temp)\n",
        "\n",
        "# Confirm dataset is now available\n",
        "print(\"Data loaded successfully!\")\n",
        "print(f\"Training set: {X_train.shape}, {y_train.shape}\")\n",
        "print(f\"Validation set: {X_val.shape}, {y_val.shape}\")\n",
        "print(f\"Test set: {X_test.shape}, {y_test.shape}\")"
      ],
      "metadata": {
        "colab": {
          "base_uri": "https://localhost:8080/"
        },
        "id": "xdpdNKM8Rzx_",
        "outputId": "3f16d1ea-f3a6-4ac0-e4f1-9a4654e90cc1"
      },
      "execution_count": 4,
      "outputs": [
        {
          "output_type": "stream",
          "name": "stdout",
          "text": [
            "Data loaded successfully!\n",
            "Training set: (700, 10), (700,)\n",
            "Validation set: (150, 10), (150,)\n",
            "Test set: (150, 10), (150,)\n"
          ]
        }
      ]
    },
    {
      "cell_type": "code",
      "source": [
        "# Model Defination\n",
        "\n",
        "# Define the model function\n",
        "def define_model(\n",
        "    optimization: str = 'Adam',\n",
        "    regularization_method: str = None,\n",
        "    early_stopping: bool = False,\n",
        "    dropout: float = 0.0,\n",
        "    learning_rate: float = 0.001,\n",
        "    input_dim: int = 10,\n",
        "    hidden_units: list = [16, 8],\n",
        "    output_units: int = 3\n",
        "):\n",
        "    # Parameter validation\n",
        "    if dropout < 0 or dropout > 1:\n",
        "        raise ValueError(\"Dropout rate must be between 0 and 1\")\n",
        "\n",
        "    if not isinstance(hidden_units, list) or len(hidden_units) < 1:\n",
        "        raise ValueError(\"hidden_units must have at least one element\")\n",
        "\n",
        "    if optimization not in [\"Adam\", \"RMSprop\"]:\n",
        "        raise ValueError(\"Unsupported optimizer. Choose 'Adam' or 'RMSprop'.\")\n",
        "\n",
        "    # Initialize model\n",
        "    model = Sequential()\n",
        "\n",
        "    # Input Layer\n",
        "    model.add(Dense(hidden_units[0], activation='relu', input_shape=(input_dim,)))\n",
        "\n",
        "    # Hidden Layers with optional regularization\n",
        "    for units in hidden_units[1:]:\n",
        "        if regularization_method == \"L1\":\n",
        "            model.add(Dense(units, activation='relu', kernel_regularizer=l1_l2(l1=0.01, l2=0)))\n",
        "        elif regularization_method == \"L2\":\n",
        "            model.add(Dense(units, activation='relu', kernel_regularizer=l1_l2(l1=0, l2=0.01)))\n",
        "        elif regularization_method == \"L1_L2\":\n",
        "            model.add(Dense(units, activation='relu', kernel_regularizer=l1_l2(l1=0.01, l2=0.01)))\n",
        "        else:\n",
        "            model.add(Dense(units, activation='relu'))\n",
        "\n",
        "        # Apply Dropout if specified\n",
        "        if dropout > 0:\n",
        "            model.add(Dropout(dropout))\n",
        "\n",
        "    # Output Layer\n",
        "    model.add(Dense(output_units, activation='softmax' if output_units > 2 else 'sigmoid'))\n",
        "\n",
        "    # Select optimizer\n",
        "    optimizer = Adam(learning_rate=learning_rate) if optimization == \"Adam\" else RMSprop(learning_rate=learning_rate)\n",
        "\n",
        "    # Dynamic loss function for multi-class vs binary classification\n",
        "    loss_function = 'sparse_categorical_crossentropy' if output_units > 2 else 'binary_crossentropy'\n",
        "\n",
        "    # Compile model\n",
        "    model.compile(optimizer=optimizer, loss=loss_function, metrics=['accuracy'])\n",
        "\n",
        "    # Setup callbacks\n",
        "    callbacks = []\n",
        "    if early_stopping:\n",
        "        es_callback = EarlyStopping(monitor='val_loss', patience=5, restore_best_weights=True, verbose=1)\n",
        "        callbacks.append(es_callback)\n",
        "\n",
        "    return model, callbacks"
      ],
      "metadata": {
        "id": "fdPTofpaR0GU"
      },
      "execution_count": 5,
      "outputs": []
    },
    {
      "cell_type": "markdown",
      "source": [
        "XGBoost Model"
      ],
      "metadata": {
        "id": "jKI7k_DyW6ri"
      }
    },
    {
      "cell_type": "code",
      "source": [
        "!pip install xgboost scikit-learn\n"
      ],
      "metadata": {
        "colab": {
          "base_uri": "https://localhost:8080/"
        },
        "id": "3oG_0llo4bQf",
        "outputId": "4efd4099-19ce-421a-f45b-880c097afe01"
      },
      "execution_count": 6,
      "outputs": [
        {
          "output_type": "stream",
          "name": "stdout",
          "text": [
            "Requirement already satisfied: xgboost in /usr/local/lib/python3.11/dist-packages (2.1.4)\n",
            "Requirement already satisfied: scikit-learn in /usr/local/lib/python3.11/dist-packages (1.6.1)\n",
            "Requirement already satisfied: numpy in /usr/local/lib/python3.11/dist-packages (from xgboost) (2.0.2)\n",
            "Requirement already satisfied: nvidia-nccl-cu12 in /usr/local/lib/python3.11/dist-packages (from xgboost) (2.21.5)\n",
            "Requirement already satisfied: scipy in /usr/local/lib/python3.11/dist-packages (from xgboost) (1.14.1)\n",
            "Requirement already satisfied: joblib>=1.2.0 in /usr/local/lib/python3.11/dist-packages (from scikit-learn) (1.4.2)\n",
            "Requirement already satisfied: threadpoolctl>=3.1.0 in /usr/local/lib/python3.11/dist-packages (from scikit-learn) (3.6.0)\n"
          ]
        }
      ]
    },
    {
      "cell_type": "code",
      "source": [
        "label_encoder = LabelEncoder()\n",
        "y = label_encoder.fit_transform(df['actual_column_name'])  # Replace with real column name\n"
      ],
      "metadata": {
        "id": "PH5LSyrWWIOT"
      },
      "execution_count": null,
      "outputs": []
    },
    {
      "cell_type": "code",
      "source": [
        "import xgboost as xgb\n",
        "from sklearn.metrics import accuracy_score, classification_report, roc_auc_score\n",
        "\n",
        "X_train, X_temp, y_train, y_temp = train_test_split(X, y, test_size=0.3, random_state=42, stratify=y)\n",
        "X_val, X_test, y_val, y_test = train_test_split(X_temp, y_temp, test_size=0.5, random_state=42, stratify=y_temp)\n",
        "\n",
        "scaler = StandardScaler()\n",
        "X_train = scaler.fit_transform(X_train)\n",
        "X_val = scaler.transform(X_val)\n",
        "X_test = scaler.transform(X_test)\n",
        "\n",
        "# Defining the XGBoost Model\n",
        "xgb_model = xgb.XGBClassifier(\n",
        "    objective='multi:softmax',\n",
        "    num_class=3,\n",
        "    learning_rate=0.01,\n",
        "    n_estimators=100,\n",
        "    max_depth=6,\n",
        "    subsample=0.8,\n",
        "    colsample_bytree=0.8,\n",
        "    random_state=42,\n",
        "    eval_metric=\"mlogloss\",\n",
        "    early_stopping_rounds=10\n",
        ")\n",
        "\n",
        "# Train the model\n",
        "xgb_model.fit(\n",
        "    X_train, y_train,\n",
        "    eval_set=[(X_val, y_val)],\n",
        "    verbose=True\n",
        ")\n",
        "\n",
        "# Make predictions\n",
        "y_pred = xgb_model.predict(X_test)\n",
        "target_names = ['Low', 'Medium', 'High']\n",
        "\n",
        "# Compute Performance Metrics\n",
        "accuracy = accuracy_score(y_test, y_pred)\n",
        "auc_score = roc_auc_score(pd.get_dummies(y_test), pd.get_dummies(y_pred), multi_class=\"ovr\")\n",
        "class_report = classification_report(y_test, y_pred, target_names=target_names)\n",
        "\n",
        "# Print Evaluation Results\n",
        "print(f\"XGBoost Model Performance\")\n",
        "print(f\"Accuracy: {accuracy:.4f}\")\n",
        "print(f\"AUC Score: {auc_score:.4f}\")\n",
        "print(\"\\nClassification Report:\\n\", class_report)"
      ],
      "metadata": {
        "colab": {
          "base_uri": "https://localhost:8080/"
        },
        "id": "8E0UzVJKR0g_",
        "outputId": "6b56cdfd-4d0f-46bf-cac8-9b7efe1c818c"
      },
      "execution_count": 8,
      "outputs": [
        {
          "output_type": "stream",
          "name": "stdout",
          "text": [
            "[0]\tvalidation_0-mlogloss:1.08757\n",
            "[1]\tvalidation_0-mlogloss:1.07621\n",
            "[2]\tvalidation_0-mlogloss:1.06468\n",
            "[3]\tvalidation_0-mlogloss:1.05318\n",
            "[4]\tvalidation_0-mlogloss:1.04195\n",
            "[5]\tvalidation_0-mlogloss:1.03139\n",
            "[6]\tvalidation_0-mlogloss:1.02133\n",
            "[7]\tvalidation_0-mlogloss:1.01192\n",
            "[8]\tvalidation_0-mlogloss:1.00206\n",
            "[9]\tvalidation_0-mlogloss:0.99173\n",
            "[10]\tvalidation_0-mlogloss:0.98232\n",
            "[11]\tvalidation_0-mlogloss:0.97264\n",
            "[12]\tvalidation_0-mlogloss:0.96310\n",
            "[13]\tvalidation_0-mlogloss:0.95384\n",
            "[14]\tvalidation_0-mlogloss:0.94504\n",
            "[15]\tvalidation_0-mlogloss:0.93640\n",
            "[16]\tvalidation_0-mlogloss:0.92750\n",
            "[17]\tvalidation_0-mlogloss:0.91872\n",
            "[18]\tvalidation_0-mlogloss:0.91006\n",
            "[19]\tvalidation_0-mlogloss:0.90111\n",
            "[20]\tvalidation_0-mlogloss:0.89276\n",
            "[21]\tvalidation_0-mlogloss:0.88464\n",
            "[22]\tvalidation_0-mlogloss:0.87660\n",
            "[23]\tvalidation_0-mlogloss:0.86886\n",
            "[24]\tvalidation_0-mlogloss:0.86114\n",
            "[25]\tvalidation_0-mlogloss:0.85320\n",
            "[26]\tvalidation_0-mlogloss:0.84536\n",
            "[27]\tvalidation_0-mlogloss:0.83787\n",
            "[28]\tvalidation_0-mlogloss:0.83055\n",
            "[29]\tvalidation_0-mlogloss:0.82353\n",
            "[30]\tvalidation_0-mlogloss:0.81628\n",
            "[31]\tvalidation_0-mlogloss:0.80893\n",
            "[32]\tvalidation_0-mlogloss:0.80172\n",
            "[33]\tvalidation_0-mlogloss:0.79473\n",
            "[34]\tvalidation_0-mlogloss:0.78804\n",
            "[35]\tvalidation_0-mlogloss:0.78141\n",
            "[36]\tvalidation_0-mlogloss:0.77478\n",
            "[37]\tvalidation_0-mlogloss:0.76812\n",
            "[38]\tvalidation_0-mlogloss:0.76140\n",
            "[39]\tvalidation_0-mlogloss:0.75483\n",
            "[40]\tvalidation_0-mlogloss:0.74855\n",
            "[41]\tvalidation_0-mlogloss:0.74239\n",
            "[42]\tvalidation_0-mlogloss:0.73591\n",
            "[43]\tvalidation_0-mlogloss:0.72958\n",
            "[44]\tvalidation_0-mlogloss:0.72363\n",
            "[45]\tvalidation_0-mlogloss:0.71777\n",
            "[46]\tvalidation_0-mlogloss:0.71230\n",
            "[47]\tvalidation_0-mlogloss:0.70645\n",
            "[48]\tvalidation_0-mlogloss:0.70090\n",
            "[49]\tvalidation_0-mlogloss:0.69512\n",
            "[50]\tvalidation_0-mlogloss:0.68945\n",
            "[51]\tvalidation_0-mlogloss:0.68387\n",
            "[52]\tvalidation_0-mlogloss:0.67842\n",
            "[53]\tvalidation_0-mlogloss:0.67362\n",
            "[54]\tvalidation_0-mlogloss:0.66861\n",
            "[55]\tvalidation_0-mlogloss:0.66325\n",
            "[56]\tvalidation_0-mlogloss:0.65812\n",
            "[57]\tvalidation_0-mlogloss:0.65291\n",
            "[58]\tvalidation_0-mlogloss:0.64813\n",
            "[59]\tvalidation_0-mlogloss:0.64320\n",
            "[60]\tvalidation_0-mlogloss:0.63838\n",
            "[61]\tvalidation_0-mlogloss:0.63346\n",
            "[62]\tvalidation_0-mlogloss:0.62863\n",
            "[63]\tvalidation_0-mlogloss:0.62357\n",
            "[64]\tvalidation_0-mlogloss:0.61884\n",
            "[65]\tvalidation_0-mlogloss:0.61405\n",
            "[66]\tvalidation_0-mlogloss:0.60937\n",
            "[67]\tvalidation_0-mlogloss:0.60481\n",
            "[68]\tvalidation_0-mlogloss:0.60018\n",
            "[69]\tvalidation_0-mlogloss:0.59599\n",
            "[70]\tvalidation_0-mlogloss:0.59181\n",
            "[71]\tvalidation_0-mlogloss:0.58760\n",
            "[72]\tvalidation_0-mlogloss:0.58359\n",
            "[73]\tvalidation_0-mlogloss:0.57972\n",
            "[74]\tvalidation_0-mlogloss:0.57536\n",
            "[75]\tvalidation_0-mlogloss:0.57147\n",
            "[76]\tvalidation_0-mlogloss:0.56761\n",
            "[77]\tvalidation_0-mlogloss:0.56335\n",
            "[78]\tvalidation_0-mlogloss:0.55923\n",
            "[79]\tvalidation_0-mlogloss:0.55523\n",
            "[80]\tvalidation_0-mlogloss:0.55172\n",
            "[81]\tvalidation_0-mlogloss:0.54760\n",
            "[82]\tvalidation_0-mlogloss:0.54399\n",
            "[83]\tvalidation_0-mlogloss:0.54023\n",
            "[84]\tvalidation_0-mlogloss:0.53647\n",
            "[85]\tvalidation_0-mlogloss:0.53324\n",
            "[86]\tvalidation_0-mlogloss:0.52961\n",
            "[87]\tvalidation_0-mlogloss:0.52601\n",
            "[88]\tvalidation_0-mlogloss:0.52227\n",
            "[89]\tvalidation_0-mlogloss:0.51867\n",
            "[90]\tvalidation_0-mlogloss:0.51515\n",
            "[91]\tvalidation_0-mlogloss:0.51173\n",
            "[92]\tvalidation_0-mlogloss:0.50830\n",
            "[93]\tvalidation_0-mlogloss:0.50505\n",
            "[94]\tvalidation_0-mlogloss:0.50197\n",
            "[95]\tvalidation_0-mlogloss:0.49883\n",
            "[96]\tvalidation_0-mlogloss:0.49573\n",
            "[97]\tvalidation_0-mlogloss:0.49254\n",
            "[98]\tvalidation_0-mlogloss:0.48962\n",
            "[99]\tvalidation_0-mlogloss:0.48646\n",
            "XGBoost Model Performance\n",
            "Accuracy: 0.9067\n",
            "AUC Score: 0.9105\n",
            "\n",
            "Classification Report:\n",
            "               precision    recall  f1-score   support\n",
            "\n",
            "         Low       0.84      0.93      0.88        41\n",
            "      Medium       0.93      0.91      0.92        94\n",
            "        High       0.92      0.80      0.86        15\n",
            "\n",
            "    accuracy                           0.91       150\n",
            "   macro avg       0.90      0.88      0.89       150\n",
            "weighted avg       0.91      0.91      0.91       150\n",
            "\n"
          ]
        }
      ]
    },
    {
      "cell_type": "code",
      "source": [
        "from sklearn.metrics import ConfusionMatrixDisplay\n",
        "\n",
        "ConfusionMatrixDisplay.from_predictions(y_test, y_pred, display_labels=target_names, cmap='Blues')\n",
        "plt.title(\"Confusion Matrix\")\n",
        "plt.show()\n"
      ],
      "metadata": {
        "colab": {
          "base_uri": "https://localhost:8080/",
          "height": 472
        },
        "id": "pO5qT1hdR0v4",
        "outputId": "a5b0c020-9d24-4a33-f6b4-2ee434aa4a08"
      },
      "execution_count": 9,
      "outputs": [
        {
          "output_type": "display_data",
          "data": {
            "text/plain": [
              "<Figure size 640x480 with 2 Axes>"
            ],
            "image/png": "[encoded data removed]"
          },
          "metadata": {}
        }
      ]
    },
    {
      "cell_type": "code",
      "source": [
        "def xgb_loss_curve_plot(loss_values, instance_name=\"XGBoost\"):\n",
        "    \"\"\"Plot XGBoost Training Loss (Log Loss) using enhanced styling\"\"\"\n",
        "    epochs = range(1, len(loss_values) + 1)\n",
        "    plt.figure(figsize=(9, 6))\n",
        "    plt.plot(epochs, loss_values, 'o-', color='#e67e22', linewidth=2, markersize=4, label='Validation Log Loss')\n",
        "\n",
        "    min_val_loss = min(loss_values)\n",
        "    plt.axhline(y=min_val_loss, color='#2ecc71', linestyle='--', alpha=0.7)\n",
        "\n",
        "    plt.title(f'Validation Log Loss - {instance_name}', fontsize=13, pad=10)\n",
        "    plt.xlabel('Epochs', fontsize=11)\n",
        "    plt.ylabel('Log Loss', fontsize=11)\n",
        "    plt.legend(frameon=True, fancybox=True)\n",
        "    plt.grid(alpha=0.3, linestyle='--')\n",
        "\n",
        "    plt.ylim(min(loss_values)*0.9, max(loss_values)*1.1)\n",
        "    plt.tight_layout()\n",
        "    plt.show()\n",
        "\n",
        "# Usage\n",
        "logloss_values = xgb_model.evals_result()['validation_0']['mlogloss']\n",
        "xgb_loss_curve_plot(logloss_values, \"XGBoost Obesity Risk Classifier\")\n",
        "\n"
      ],
      "metadata": {
        "colab": {
          "base_uri": "https://localhost:8080/",
          "height": 607
        },
        "id": "jMKsRaZiR0T3",
        "outputId": "e00380d9-2e52-4389-d56d-ed69f868d4a6"
      },
      "execution_count": 15,
      "outputs": [
        {
          "output_type": "display_data",
          "data": {
            "text/plain": [
              "<Figure size 900x600 with 1 Axes>"
            ],
            "image/png": "[encoded data removed]"
          },
          "metadata": {}
        }
      ]
    },
    {
      "cell_type": "code",
      "source": [
        "from sklearn.metrics import roc_curve, auc\n",
        "from sklearn.preprocessing import label_binarize\n",
        "\n",
        "# Binarize true labels\n",
        "y_test_bin = label_binarize(y_test, classes=[0, 1, 2])\n",
        "y_pred_proba = xgb_model.predict_proba(X_test)\n",
        "\n",
        "# Compute ROC\n",
        "fpr = {}\n",
        "tpr = {}\n",
        "roc_auc = {}\n",
        "for i in range(3):  # 3 classes\n",
        "    fpr[i], tpr[i], _ = roc_curve(y_test_bin[:, i], y_pred_proba[:, i])\n",
        "    roc_auc[i] = auc(fpr[i], tpr[i])\n",
        "\n",
        "# Plot all ROC curves\n",
        "plt.figure(figsize=(8,6))\n",
        "colors = ['blue', 'orange', 'green']\n",
        "for i, color in enumerate(colors):\n",
        "    plt.plot(fpr[i], tpr[i], color=color, label=f'Class {i} (AUC = {roc_auc[i]:.2f})')\n",
        "\n",
        "plt.plot([0, 1], [0, 1], 'k--')\n",
        "plt.xlabel('False Positive Rate')\n",
        "plt.ylabel('True Positive Rate')\n",
        "plt.title('ROC Curve (Overall)')\n",
        "plt.legend()\n",
        "plt.grid(True)\n",
        "plt.show()\n"
      ],
      "metadata": {
        "colab": {
          "base_uri": "https://localhost:8080/",
          "height": 564
        },
        "id": "cPiGYIiwR09J",
        "outputId": "f5e73f08-74eb-40d6-cf4c-a65e4dd841a0"
      },
      "execution_count": 17,
      "outputs": [
        {
          "output_type": "display_data",
          "data": {
            "text/plain": [
              "<Figure size 800x600 with 1 Axes>"
            ],
            "image/png": "[encoded data removed]"
          },
          "metadata": {}
        }
      ]
    },
    {
      "cell_type": "code",
      "source": [
        "# Count predicted class distribution\n",
        "pred_counts = pd.Series(y_pred).value_counts().sort_index()\n",
        "\n",
        "# Map to labels if needed\n",
        "labels = ['Low', 'Medium', 'High']\n",
        "colors = ['#2ecc71', '#f1c40f', '#e74c3c']\n",
        "\n",
        "# Plot pie chart\n",
        "plt.figure(figsize=(6, 6))\n",
        "plt.pie(pred_counts, labels=labels, autopct='%1.1f%%', startangle=140, colors=colors)\n",
        "plt.title(\"Predicted Class Distribution Pie Chart\")\n",
        "plt.axis('equal')\n",
        "plt.show()\n"
      ],
      "metadata": {
        "colab": {
          "base_uri": "https://localhost:8080/",
          "height": 521
        },
        "id": "93qYGzI4cy-O",
        "outputId": "61d3c59c-1deb-48be-8956-dbdb7f6dbb1a"
      },
      "execution_count": 18,
      "outputs": [
        {
          "output_type": "display_data",
          "data": {
            "text/plain": [
              "<Figure size 600x600 with 1 Axes>"
            ],
            "image/png": "[encoded data removed]"
          },
          "metadata": {}
        }
      ]
    },
    {
      "cell_type": "code",
      "source": [
        "# Save model to JSON\n",
        "xgb_model.save_model(\"xgb_obesity_model.json\")\n",
        "\n",
        "# Save scaler for deployment\n",
        "import joblib\n",
        "joblib.dump(scaler, \"scaler.pkl\")\n"
      ],
      "metadata": {
        "colab": {
          "base_uri": "https://localhost:8080/"
        },
        "id": "R3JQbC14dPlw",
        "outputId": "c5742e84-8dd7-4084-da55-1e06a4f96049"
      },
      "execution_count": 19,
      "outputs": [
        {
          "output_type": "execute_result",
          "data": {
            "text/plain": [
              "['scaler.pkl']"
            ]
          },
          "metadata": {},
          "execution_count": 19
        }
      ]
    },
    {
      "cell_type": "code",
      "source": [
        "%%writefile preprocessing.py\n",
        "import pandas as pd\n",
        "import joblib\n",
        "\n",
        "# Load saved scaler\n",
        "scaler = joblib.load(\"scaler.pkl\")\n",
        "\n",
        "# Label encoding values (match training)\n",
        "label_maps = {\n",
        "    'Region': {'Urban': 1, 'Rural': 0},\n",
        "    'Gender': {'Male': 1, 'Female': 0},\n",
        "    'Physical_Activity': {'Low': 0, 'Moderate': 1, 'High': 2}\n",
        "}\n",
        "\n",
        "numerical_columns = ['Age', 'BMI', 'Blood_Pressure_Systolic', 'Blood_Pressure_Diastolic', 'Cholesterol', 'Blood_Sugar', 'Diet_Quality']\n",
        "\n",
        "def preprocess_input(df):\n",
        "    df = df.copy()\n",
        "\n",
        "    # Encode categoricals\n",
        "    for col, mapping in label_maps.items():\n",
        "        if col in df.columns:\n",
        "            df[col] = df[col].map(mapping)\n",
        "\n",
        "    # Scale numeric columns\n",
        "    df[numerical_columns] = scaler.transform(df[numerical_columns])\n",
        "\n",
        "    return df\n"
      ],
      "metadata": {
        "colab": {
          "base_uri": "https://localhost:8080/"
        },
        "id": "2aLdk6dFd8HN",
        "outputId": "8a680336-a141-4b00-bcc8-b9a2a49a0573"
      },
      "execution_count": 20,
      "outputs": [
        {
          "output_type": "stream",
          "name": "stdout",
          "text": [
            "Writing preprocessing.py\n"
          ]
        }
      ]
    },
    {
      "cell_type": "code",
      "source": [
        "%%writefile model.py\n",
        "import xgboost as xgb\n",
        "\n",
        "def load_model():\n",
        "    model = xgb.XGBClassifier()\n",
        "    model.load_model(\"xgb_obesity_model.json\")\n",
        "    return model\n"
      ],
      "metadata": {
        "colab": {
          "base_uri": "https://localhost:8080/"
        },
        "id": "DrRrJRgZd8Wp",
        "outputId": "a25a458a-6917-417a-fb50-9c3804ba4185"
      },
      "execution_count": 21,
      "outputs": [
        {
          "output_type": "stream",
          "name": "stdout",
          "text": [
            "Writing model.py\n"
          ]
        }
      ]
    },
    {
      "cell_type": "code",
      "source": [
        "%%writefile prediction.py\n",
        "import pandas as pd\n",
        "from src.preprocessing import preprocess_input\n",
        "from src.model import load_model\n",
        "\n",
        "# Load model\n",
        "model = load_model()\n",
        "\n",
        "# Labels\n",
        "target_names = ['Low', 'Medium', 'High']\n",
        "\n",
        "def predict_single(data_dict):\n",
        "    df = pd.DataFrame([data_dict])\n",
        "    processed = preprocess_input(df)\n",
        "    prediction = model.predict(processed)[0]\n",
        "    return target_names[prediction]\n",
        "\n",
        "def predict_batch(df):\n",
        "    processed = preprocess_input(df)\n",
        "    predictions = model.predict(processed)\n",
        "    return [target_names[pred] for pred in predictions]"
      ],
      "metadata": {
        "colab": {
          "base_uri": "https://localhost:8080/"
        },
        "id": "HGQfaw72f3ze",
        "outputId": "da5895e6-86b6-429c-baf4-0acce6db7239"
      },
      "execution_count": 22,
      "outputs": [
        {
          "output_type": "stream",
          "name": "stdout",
          "text": [
            "Writing prediction.py\n"
          ]
        }
      ]
    }
  ]
}